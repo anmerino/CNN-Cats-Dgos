{
 "cells": [
  {
   "cell_type": "markdown",
   "id": "33bfee16-9e73-460c-addf-fe08e16b8a78",
   "metadata": {},
   "source": [
    "# CNN"
   ]
  },
  {
   "cell_type": "markdown",
   "id": "77e0686e-5d96-4633-8f51-3af46eb176ad",
   "metadata": {},
   "source": [
    "## libreries\n"
   ]
  },
  {
   "cell_type": "code",
   "execution_count": 42,
   "id": "f0f2c8dc-106a-4450-bad3-6ed9fbf2820e",
   "metadata": {},
   "outputs": [],
   "source": [
    "from keras.models import Sequential\n",
    "from tensorflow.keras import Input\n",
    "\n",
    "from keras.layers import Conv2D, MaxPooling2D, Flatten, Dense\n",
    "\n",
    "import matplotlib.pyplot as plt\n",
    "import numpy as np"
   ]
  },
  {
   "cell_type": "markdown",
   "id": "890ebd5f-f77c-43e1-a9c3-102b12bf6ec8",
   "metadata": {},
   "source": [
    "## Creating network\n"
   ]
  },
  {
   "cell_type": "code",
   "execution_count": 43,
   "id": "597bd78f-5aa5-4c75-a131-36076fc66ce3",
   "metadata": {},
   "outputs": [],
   "source": [
    "\n",
    "clasificador = Sequential()"
   ]
  },
  {
   "cell_type": "code",
   "execution_count": 44,
   "id": "a73b28e4-80dd-4309-8d3d-bc252d4e234d",
   "metadata": {},
   "outputs": [],
   "source": [
    "clasificador.add(Input(shape = (64,64,3)))"
   ]
  },
  {
   "cell_type": "code",
   "execution_count": 45,
   "id": "1ce4abfb-d789-4b65-9698-c87f335e2276",
   "metadata": {},
   "outputs": [],
   "source": [
    "# layer 1 - convultional\n",
    "clasificador.add(\n",
    "    Conv2D(\n",
    "        filters = 32,\n",
    "        kernel_size = (3, 3),\n",
    "        activation = \"relu\"\n",
    "    )\n",
    ")"
   ]
  },
  {
   "cell_type": "code",
   "execution_count": 46,
   "id": "4a00a491-76b9-4602-a53e-6430364314f3",
   "metadata": {},
   "outputs": [],
   "source": [
    "# layer 2 - pooling\n",
    "clasificador.add(\n",
    "    MaxPooling2D(pool_size = (2,2))\n",
    ")"
   ]
  },
  {
   "cell_type": "code",
   "execution_count": 47,
   "id": "4600b009-5b6e-4ecb-bb1c-1c370320c3b8",
   "metadata": {},
   "outputs": [],
   "source": [
    "# layer 3 - convultional\n",
    "clasificador.add(\n",
    "    Conv2D(\n",
    "        filters = 32,\n",
    "        kernel_size = (3, 3),\n",
    "        activation = \"relu\"\n",
    "    )\n",
    ")"
   ]
  },
  {
   "cell_type": "code",
   "execution_count": 48,
   "id": "ed892903-fab0-4497-aa4f-2fbf8eac1bdf",
   "metadata": {},
   "outputs": [],
   "source": [
    "# layer 4 - pooling\n",
    "clasificador.add(\n",
    "    MaxPooling2D(pool_size = (2,2))\n",
    ")"
   ]
  },
  {
   "cell_type": "code",
   "execution_count": 49,
   "id": "20b9c66e-bf9a-455b-9127-63562b0f4b5f",
   "metadata": {},
   "outputs": [],
   "source": [
    "#layer 5 - flattening\n",
    "clasificador.add(\n",
    "    Flatten()\n",
    ")"
   ]
  },
  {
   "cell_type": "code",
   "execution_count": 50,
   "id": "91615c84-d3d0-47ae-b3dc-d0e3b79fe895",
   "metadata": {},
   "outputs": [],
   "source": [
    "# layer 6 - dense\n",
    "clasificador.add(\n",
    "    Dense(\n",
    "        units = 128,\n",
    "        activation = \"relu\"\n",
    "    )\n",
    ")"
   ]
  },
  {
   "cell_type": "code",
   "execution_count": 51,
   "id": "4144d3b2-615a-4687-b6ca-f1f2503e80f3",
   "metadata": {},
   "outputs": [],
   "source": [
    "# layer 7 - exit\n",
    "clasificador.add(\n",
    "    Dense(\n",
    "        units = 1,\n",
    "        activation = \"sigmoid\"\n",
    "    )\n",
    ")"
   ]
  },
  {
   "cell_type": "code",
   "execution_count": 52,
   "id": "ddc4ffde-61db-4c6d-bca9-02bcbbf671fb",
   "metadata": {},
   "outputs": [],
   "source": [
    "\n",
    "clasificador.compile(\n",
    "    optimizer = \"adam\",\n",
    "    loss = \"binary_crossentropy\",\n",
    "    metrics = [\"accuracy\"]\n",
    ")"
   ]
  },
  {
   "cell_type": "markdown",
   "id": "c12ac09f-cbc9-4678-b5da-26bef04984ec",
   "metadata": {},
   "source": [
    "## Import pictures"
   ]
  },
  {
   "cell_type": "code",
   "execution_count": 53,
   "id": "7e1d816d-0339-4d46-af6c-02fa452d12b4",
   "metadata": {},
   "outputs": [],
   "source": [
    "from tensorflow.keras.preprocessing.image import ImageDataGenerator"
   ]
  },
  {
   "cell_type": "code",
   "execution_count": 54,
   "id": "f7a3f273-b062-4d48-bea9-5d2e30f0d41b",
   "metadata": {},
   "outputs": [],
   "source": [
    "train_datagen = ImageDataGenerator(\n",
    "    rescale = 1/255,\n",
    "    shear_range = 0.2, \n",
    "    zoom_range = 0.2, \n",
    "    horizontal_flip = True \n",
    ")\n",
    "test_datagen = ImageDataGenerator(\n",
    "    rescale = 1/255\n",
    ")"
   ]
  },
  {
   "cell_type": "code",
   "execution_count": 55,
   "id": "9248c231-20eb-4141-99cd-604785641883",
   "metadata": {},
   "outputs": [
    {
     "name": "stdout",
     "output_type": "stream",
     "text": [
      "Found 8048 images belonging to 2 classes.\n"
     ]
    }
   ],
   "source": [
    "training_set = train_datagen.flow_from_directory(\n",
    "    \"dataset/training_set\",\n",
    "    target_size = (64, 64),\n",
    "    batch_size = 32,\n",
    "    class_mode = \"binary\"\n",
    ")"
   ]
  },
  {
   "cell_type": "code",
   "execution_count": 56,
   "id": "a28fcb07-b831-4096-a572-58dcbbbbb607",
   "metadata": {},
   "outputs": [
    {
     "name": "stdout",
     "output_type": "stream",
     "text": [
      "Found 2000 images belonging to 2 classes.\n"
     ]
    }
   ],
   "source": [
    "test_set = test_datagen.flow_from_directory(\n",
    "    \"dataset/test_set\",\n",
    "    target_size = (64, 64),\n",
    "    batch_size = 32,\n",
    "    class_mode = \"binary\"\n",
    ")"
   ]
  },
  {
   "cell_type": "code",
   "execution_count": 57,
   "id": "a6631fad-01a0-4aee-9d7a-9cb4054e8345",
   "metadata": {},
   "outputs": [],
   "source": [
    "images, labels = next(training_set)"
   ]
  },
  {
   "cell_type": "code",
   "execution_count": 58,
   "id": "57cd8d7a-b015-4824-a044-918f901eadd5",
   "metadata": {},
   "outputs": [
    {
     "data": {
      "text/plain": [
       "(64, 64, 3)"
      ]
     },
     "execution_count": 58,
     "metadata": {},
     "output_type": "execute_result"
    }
   ],
   "source": [
    "images[0].shape"
   ]
  },
  {
   "cell_type": "code",
   "execution_count": 59,
   "id": "0eaac496-9609-4636-b97e-444e39ceccc1",
   "metadata": {},
   "outputs": [
    {
     "data": {
      "text/plain": [
       "array([[[0.83921576, 0.8431373 , 0.85098046],\n",
       "        [0.83921576, 0.8431373 , 0.85098046],\n",
       "        [0.8320032 , 0.83592474, 0.8437679 ],\n",
       "        ...,\n",
       "        [0.5921569 , 0.54509807, 0.39607847],\n",
       "        [0.6039216 , 0.5294118 , 0.40000004],\n",
       "        [0.6039216 , 0.5294118 , 0.40000004]],\n",
       "\n",
       "       [[0.83921576, 0.8431373 , 0.85098046],\n",
       "        [0.83921576, 0.8431373 , 0.85098046],\n",
       "        [0.8319893 , 0.83591086, 0.843754  ],\n",
       "        ...,\n",
       "        [0.5921569 , 0.54509807, 0.39607847],\n",
       "        [0.6039216 , 0.5294118 , 0.40000004],\n",
       "        [0.6039216 , 0.5294118 , 0.40000004]],\n",
       "\n",
       "       [[0.83921576, 0.8431373 , 0.85098046],\n",
       "        [0.83921576, 0.8431373 , 0.85098046],\n",
       "        [0.8319754 , 0.83589697, 0.8437401 ],\n",
       "        ...,\n",
       "        [0.5921569 , 0.54509807, 0.39607847],\n",
       "        [0.6039216 , 0.5294118 , 0.40000004],\n",
       "        [0.6039216 , 0.5294118 , 0.40000004]],\n",
       "\n",
       "       ...,\n",
       "\n",
       "       [[0.8352942 , 0.81568635, 0.7372549 ],\n",
       "        [0.8352942 , 0.81568635, 0.7372549 ],\n",
       "        [0.8542516 , 0.8346438 , 0.7562124 ],\n",
       "        ...,\n",
       "        [0.714325  , 0.65942305, 0.6084426 ],\n",
       "        [0.7686275 , 0.7137255 , 0.6627451 ],\n",
       "        [0.7686275 , 0.7137255 , 0.6627451 ]],\n",
       "\n",
       "       [[0.8352942 , 0.81568635, 0.7372549 ],\n",
       "        [0.8352942 , 0.81568635, 0.7372549 ],\n",
       "        [0.8542099 , 0.83460206, 0.7561707 ],\n",
       "        ...,\n",
       "        [0.7144292 , 0.6595272 , 0.6085468 ],\n",
       "        [0.7686275 , 0.7137255 , 0.6627451 ],\n",
       "        [0.7686275 , 0.7137255 , 0.6627451 ]],\n",
       "\n",
       "       [[0.8352942 , 0.81568635, 0.7372549 ],\n",
       "        [0.8352942 , 0.81568635, 0.7372549 ],\n",
       "        [0.8541683 , 0.83456045, 0.756129  ],\n",
       "        ...,\n",
       "        [0.7145333 , 0.6596314 , 0.608651  ],\n",
       "        [0.7686275 , 0.7137255 , 0.6627451 ],\n",
       "        [0.7686275 , 0.7137255 , 0.6627451 ]]], dtype=float32)"
      ]
     },
     "execution_count": 59,
     "metadata": {},
     "output_type": "execute_result"
    }
   ],
   "source": [
    "images[0]"
   ]
  },
  {
   "cell_type": "code",
   "execution_count": 60,
   "id": "6535f639-8930-4f0a-b293-2acec159e09c",
   "metadata": {},
   "outputs": [
    {
     "data": {
      "text/plain": [
       "1.0"
      ]
     },
     "execution_count": 60,
     "metadata": {},
     "output_type": "execute_result"
    }
   ],
   "source": [
    "labels[1]"
   ]
  },
  {
   "cell_type": "code",
   "execution_count": 61,
   "id": "35a7b340-ee97-4cb7-af18-0f41e58d2adf",
   "metadata": {},
   "outputs": [
    {
     "data": {
      "image/png": "[encoded data removed]",
      "text/plain": [
       "<Figure size 300x300 with 1 Axes>"
      ]
     },
     "metadata": {},
     "output_type": "display_data"
    }
   ],
   "source": [
    "plt.figure(figsize = (3,3))\n",
    "plt.imshow(images[1])\n",
    "plt.show()"
   ]
  },
  {
   "cell_type": "code",
   "execution_count": 62,
   "id": "010f16cc-69b5-4360-bbcd-551527998b37",
   "metadata": {},
   "outputs": [
    {
     "data": {
      "text/plain": [
       "{'cats': 0, 'dogs': 1}"
      ]
     },
     "execution_count": 62,
     "metadata": {},
     "output_type": "execute_result"
    }
   ],
   "source": [
    "training_set.class_indices"
   ]
  },
  {
   "cell_type": "code",
   "execution_count": 63,
   "id": "6bcc9bdb-f968-4dfe-a6a8-e0a854dd0d2c",
   "metadata": {},
   "outputs": [],
   "source": [
    "# X_train -> pictures\n",
    "# y_train -> labels"
   ]
  },
  {
   "cell_type": "markdown",
   "id": "0d7b45a0-59a7-4d01-9f86-a5125bb5e2a4",
   "metadata": {},
   "source": [
    "## Training model"
   ]
  },
  {
   "cell_type": "code",
   "execution_count": 64,
   "id": "9b92ec50-d531-4c2e-a5dd-74b264c9468e",
   "metadata": {},
   "outputs": [
    {
     "data": {
      "text/plain": [
       "251.5"
      ]
     },
     "execution_count": 64,
     "metadata": {},
     "output_type": "execute_result"
    }
   ],
   "source": [
    "8048 / 32"
   ]
  },
  {
   "cell_type": "code",
   "execution_count": 65,
   "id": "ba0b3d5a-cf37-4c01-86a7-39fe764a53a5",
   "metadata": {},
   "outputs": [
    {
     "data": {
      "text/plain": [
       "62.5"
      ]
     },
     "execution_count": 65,
     "metadata": {},
     "output_type": "execute_result"
    }
   ],
   "source": [
    "2000 / 32"
   ]
  },
  {
   "cell_type": "code",
   "execution_count": 66,
   "id": "5294cf6c-d00c-4d43-b968-32dd16c22c57",
   "metadata": {
    "collapsed": true,
    "jupyter": {
     "outputs_hidden": true
    }
   },
   "outputs": [
    {
     "name": "stdout",
     "output_type": "stream",
     "text": [
      "Epoch 1/25\n",
      "\u001b[1m251/251\u001b[0m \u001b[32m━━━━━━━━━━━━━━━━━━━━\u001b[0m\u001b[37m\u001b[0m \u001b[1m32s\u001b[0m 117ms/step - accuracy: 0.5437 - loss: 0.6938 - val_accuracy: 0.6678 - val_loss: 0.6198\n",
      "Epoch 2/25\n",
      "\u001b[1m251/251\u001b[0m \u001b[32m━━━━━━━━━━━━━━━━━━━━\u001b[0m\u001b[37m\u001b[0m \u001b[1m0s\u001b[0m 251us/step - accuracy: 0.6562 - loss: 0.7980 - val_accuracy: 0.5625 - val_loss: 0.6811\n",
      "Epoch 3/25\n",
      "\u001b[1m251/251\u001b[0m \u001b[32m━━━━━━━━━━━━━━━━━━━━\u001b[0m\u001b[37m\u001b[0m \u001b[1m27s\u001b[0m 106ms/step - accuracy: 0.6766 - loss: 0.6092 - val_accuracy: 0.6845 - val_loss: 0.5971\n",
      "Epoch 4/25\n",
      "\u001b[1m251/251\u001b[0m \u001b[32m━━━━━━━━━━━━━━━━━━━━\u001b[0m\u001b[37m\u001b[0m \u001b[1m0s\u001b[0m 208us/step - accuracy: 0.6562 - loss: 0.5649 - val_accuracy: 0.8125 - val_loss: 0.4969\n",
      "Epoch 5/25\n",
      "\u001b[1m251/251\u001b[0m \u001b[32m━━━━━━━━━━━━━━━━━━━━\u001b[0m\u001b[37m\u001b[0m \u001b[1m27s\u001b[0m 107ms/step - accuracy: 0.6995 - loss: 0.5609 - val_accuracy: 0.7303 - val_loss: 0.5405\n",
      "Epoch 6/25\n",
      "\u001b[1m251/251\u001b[0m \u001b[32m━━━━━━━━━━━━━━━━━━━━\u001b[0m\u001b[37m\u001b[0m \u001b[1m0s\u001b[0m 212us/step - accuracy: 0.7500 - loss: 0.4924 - val_accuracy: 0.8125 - val_loss: 0.4522\n",
      "Epoch 7/25\n",
      "\u001b[1m251/251\u001b[0m \u001b[32m━━━━━━━━━━━━━━━━━━━━\u001b[0m\u001b[37m\u001b[0m \u001b[1m28s\u001b[0m 108ms/step - accuracy: 0.7346 - loss: 0.5374 - val_accuracy: 0.7374 - val_loss: 0.5254\n",
      "Epoch 8/25\n",
      "\u001b[1m251/251\u001b[0m \u001b[32m━━━━━━━━━━━━━━━━━━━━\u001b[0m\u001b[37m\u001b[0m \u001b[1m0s\u001b[0m 214us/step - accuracy: 0.7500 - loss: 0.4896 - val_accuracy: 0.7500 - val_loss: 1.1081\n",
      "Epoch 9/25\n",
      "\u001b[1m251/251\u001b[0m \u001b[32m━━━━━━━━━━━━━━━━━━━━\u001b[0m\u001b[37m\u001b[0m \u001b[1m27s\u001b[0m 107ms/step - accuracy: 0.7571 - loss: 0.5011 - val_accuracy: 0.7621 - val_loss: 0.5089\n",
      "Epoch 10/25\n",
      "\u001b[1m251/251\u001b[0m \u001b[32m━━━━━━━━━━━━━━━━━━━━\u001b[0m\u001b[37m\u001b[0m \u001b[1m0s\u001b[0m 209us/step - accuracy: 0.6875 - loss: 0.5367 - val_accuracy: 0.9375 - val_loss: 0.3135\n",
      "Epoch 11/25\n",
      "\u001b[1m251/251\u001b[0m \u001b[32m━━━━━━━━━━━━━━━━━━━━\u001b[0m\u001b[37m\u001b[0m \u001b[1m27s\u001b[0m 107ms/step - accuracy: 0.7680 - loss: 0.4840 - val_accuracy: 0.7535 - val_loss: 0.5063\n",
      "Epoch 12/25\n",
      "\u001b[1m251/251\u001b[0m \u001b[32m━━━━━━━━━━━━━━━━━━━━\u001b[0m\u001b[37m\u001b[0m \u001b[1m0s\u001b[0m 196us/step - accuracy: 0.8125 - loss: 0.3595 - val_accuracy: 0.7500 - val_loss: 0.5600\n",
      "Epoch 13/25\n",
      "\u001b[1m251/251\u001b[0m \u001b[32m━━━━━━━━━━━━━━━━━━━━\u001b[0m\u001b[37m\u001b[0m \u001b[1m28s\u001b[0m 108ms/step - accuracy: 0.7753 - loss: 0.4616 - val_accuracy: 0.7727 - val_loss: 0.4684\n",
      "Epoch 14/25\n",
      "\u001b[1m251/251\u001b[0m \u001b[32m━━━━━━━━━━━━━━━━━━━━\u001b[0m\u001b[37m\u001b[0m \u001b[1m0s\u001b[0m 204us/step - accuracy: 0.7812 - loss: 0.4972 - val_accuracy: 0.7500 - val_loss: 0.4605\n",
      "Epoch 15/25\n",
      "\u001b[1m251/251\u001b[0m \u001b[32m━━━━━━━━━━━━━━━━━━━━\u001b[0m\u001b[37m\u001b[0m \u001b[1m28s\u001b[0m 108ms/step - accuracy: 0.7865 - loss: 0.4518 - val_accuracy: 0.7752 - val_loss: 0.4821\n",
      "Epoch 16/25\n",
      "\u001b[1m251/251\u001b[0m \u001b[32m━━━━━━━━━━━━━━━━━━━━\u001b[0m\u001b[37m\u001b[0m \u001b[1m0s\u001b[0m 194us/step - accuracy: 0.8125 - loss: 0.4918 - val_accuracy: 0.8750 - val_loss: 0.4299\n",
      "Epoch 17/25\n",
      "\u001b[1m251/251\u001b[0m \u001b[32m━━━━━━━━━━━━━━━━━━━━\u001b[0m\u001b[37m\u001b[0m \u001b[1m28s\u001b[0m 109ms/step - accuracy: 0.8021 - loss: 0.4264 - val_accuracy: 0.7344 - val_loss: 0.5699\n",
      "Epoch 18/25\n",
      "\u001b[1m251/251\u001b[0m \u001b[32m━━━━━━━━━━━━━━━━━━━━\u001b[0m\u001b[37m\u001b[0m \u001b[1m0s\u001b[0m 216us/step - accuracy: 0.7812 - loss: 0.4534 - val_accuracy: 0.8750 - val_loss: 0.3187\n",
      "Epoch 19/25\n",
      "\u001b[1m251/251\u001b[0m \u001b[32m━━━━━━━━━━━━━━━━━━━━\u001b[0m\u001b[37m\u001b[0m \u001b[1m30s\u001b[0m 116ms/step - accuracy: 0.8046 - loss: 0.4174 - val_accuracy: 0.7888 - val_loss: 0.4606\n",
      "Epoch 20/25\n",
      "\u001b[1m251/251\u001b[0m \u001b[32m━━━━━━━━━━━━━━━━━━━━\u001b[0m\u001b[37m\u001b[0m \u001b[1m0s\u001b[0m 208us/step - accuracy: 0.9062 - loss: 0.4442 - val_accuracy: 0.6250 - val_loss: 0.6564\n",
      "Epoch 21/25\n",
      "\u001b[1m251/251\u001b[0m \u001b[32m━━━━━━━━━━━━━━━━━━━━\u001b[0m\u001b[37m\u001b[0m \u001b[1m29s\u001b[0m 114ms/step - accuracy: 0.8049 - loss: 0.4218 - val_accuracy: 0.7989 - val_loss: 0.4664\n",
      "Epoch 22/25\n",
      "\u001b[1m251/251\u001b[0m \u001b[32m━━━━━━━━━━━━━━━━━━━━\u001b[0m\u001b[37m\u001b[0m \u001b[1m0s\u001b[0m 191us/step - accuracy: 0.9062 - loss: 0.3095 - val_accuracy: 0.9375 - val_loss: 0.2398\n",
      "Epoch 23/25\n",
      "\u001b[1m251/251\u001b[0m \u001b[32m━━━━━━━━━━━━━━━━━━━━\u001b[0m\u001b[37m\u001b[0m \u001b[1m28s\u001b[0m 110ms/step - accuracy: 0.8171 - loss: 0.3928 - val_accuracy: 0.7984 - val_loss: 0.4547\n",
      "Epoch 24/25\n",
      "\u001b[1m251/251\u001b[0m \u001b[32m━━━━━━━━━━━━━━━━━━━━\u001b[0m\u001b[37m\u001b[0m \u001b[1m0s\u001b[0m 223us/step - accuracy: 0.8438 - loss: 0.3363 - val_accuracy: 0.7500 - val_loss: 0.4638\n",
      "Epoch 25/25\n",
      "\u001b[1m251/251\u001b[0m \u001b[32m━━━━━━━━━━━━━━━━━━━━\u001b[0m\u001b[37m\u001b[0m \u001b[1m28s\u001b[0m 110ms/step - accuracy: 0.8386 - loss: 0.3712 - val_accuracy: 0.7944 - val_loss: 0.4636\n"
     ]
    },
    {
     "data": {
      "text/plain": [
       "<keras.src.callbacks.history.History at 0x1580792a450>"
      ]
     },
     "execution_count": 66,
     "metadata": {},
     "output_type": "execute_result"
    }
   ],
   "source": [
    "clasificador.fit(\n",
    "    training_set,\n",
    "    steps_per_epoch = 251,\n",
    "    epochs = 25,    \n",
    "    validation_data = test_set,\n",
    "    validation_steps = 62 \n",
    ")"
   ]
  },
  {
   "cell_type": "markdown",
   "id": "d2acfd4c-78df-422d-8952-63a07c5e13e7",
   "metadata": {},
   "source": [
    "## Validating model"
   ]
  },
  {
   "cell_type": "code",
   "execution_count": 67,
   "id": "b4532c5b-70e1-4c4a-b812-e649e788472d",
   "metadata": {},
   "outputs": [],
   "source": [
    "from tensorflow.keras.preprocessing import image"
   ]
  },
  {
   "cell_type": "code",
   "execution_count": 73,
   "id": "28ea49ae-1b9b-42ee-a865-9f934907f9c9",
   "metadata": {},
   "outputs": [
    {
     "data": {
      "image/jpeg": "[encoded data removed]",
      "image/png": "[encoded data removed]",
      "text/plain": [
       "<PIL.Image.Image image mode=RGB size=64x64>"
      ]
     },
     "execution_count": 73,
     "metadata": {},
     "output_type": "execute_result"
    }
   ],
   "source": [
    "test_image = image.load_img(\"dataset/test_set/cats/cat.4001.jpg\", target_size = (64,64))\n",
    "test_image"
   ]
  },
  {
   "cell_type": "code",
   "execution_count": 74,
   "id": "cc355c78-e61a-4d5b-8731-9f4645afce5f",
   "metadata": {},
   "outputs": [],
   "source": [
    "test_image = image.img_to_array(test_image)"
   ]
  },
  {
   "cell_type": "code",
   "execution_count": 75,
   "id": "ba538f25-56da-4f7a-81e2-cb563c078461",
   "metadata": {},
   "outputs": [
    {
     "data": {
      "text/plain": [
       "(64, 64, 3)"
      ]
     },
     "execution_count": 75,
     "metadata": {},
     "output_type": "execute_result"
    }
   ],
   "source": [
    "test_image.shape"
   ]
  },
  {
   "cell_type": "code",
   "execution_count": 76,
   "id": "c53a8574-fa7a-4952-b042-766666b0eaad",
   "metadata": {},
   "outputs": [
    {
     "data": {
      "text/plain": [
       "(1, 64, 64, 3)"
      ]
     },
     "execution_count": 76,
     "metadata": {},
     "output_type": "execute_result"
    }
   ],
   "source": [
    "test_image = np.expand_dims(test_image, axis=0)\n",
    "test_image.shape"
   ]
  },
  {
   "cell_type": "code",
   "execution_count": 77,
   "id": "d897f0f6-15e6-4d58-b3e1-cfbfaba26a5b",
   "metadata": {},
   "outputs": [],
   "source": [
    "test_image = test_image / 255"
   ]
  },
  {
   "cell_type": "code",
   "execution_count": 78,
   "id": "30c5e845-8975-4f59-b9b5-9e254c74805a",
   "metadata": {},
   "outputs": [
    {
     "name": "stdout",
     "output_type": "stream",
     "text": [
      "\u001b[1m1/1\u001b[0m \u001b[32m━━━━━━━━━━━━━━━━━━━━\u001b[0m\u001b[37m\u001b[0m \u001b[1m0s\u001b[0m 110ms/step\n"
     ]
    }
   ],
   "source": [
    "resultado = clasificador.predict(test_image)"
   ]
  },
  {
   "cell_type": "code",
   "execution_count": 79,
   "id": "f56b791e-38d1-43a7-b50a-1e9d14880046",
   "metadata": {},
   "outputs": [
    {
     "data": {
      "text/plain": [
       "{'cats': 0, 'dogs': 1}"
      ]
     },
     "execution_count": 79,
     "metadata": {},
     "output_type": "execute_result"
    }
   ],
   "source": [
    "# cat -> 0\n",
    "# dog -> 1\n",
    "training_set.class_indices"
   ]
  },
  {
   "cell_type": "code",
   "execution_count": 80,
   "id": "5c5e2dc6-4eb3-435b-b974-d8c0779fc89e",
   "metadata": {},
   "outputs": [
    {
     "name": "stdout",
     "output_type": "stream",
     "text": [
      "This is a dog\n"
     ]
    }
   ],
   "source": [
    "if resultado[0][0] > 0.5:\n",
    "    print(\"This is a dog\")\n",
    "else:\n",
    "    print(\"This is a cat\")"
   ]
  },
  {
   "cell_type": "code",
   "execution_count": 81,
   "id": "c68180d8-34db-468d-8440-2b8af7e26915",
   "metadata": {},
   "outputs": [
    {
     "data": {
      "text/plain": [
       "array([[0.7626294]], dtype=float32)"
      ]
     },
     "execution_count": 81,
     "metadata": {},
     "output_type": "execute_result"
    }
   ],
   "source": [
    "resultado"
   ]
  },
  {
   "cell_type": "code",
   "execution_count": null,
   "id": "24add006-728e-4c1a-934c-770d29427496",
   "metadata": {},
   "outputs": [],
   "source": []
  }
 ],
 "metadata": {
  "kernelspec": {
   "display_name": "Python 3 (ipykernel)",
   "language": "python",
   "name": "python3"
  },
  "language_info": {
   "codemirror_mode": {
    "name": "ipython",
    "version": 3
   },
   "file_extension": ".py",
   "mimetype": "text/x-python",
   "name": "python",
   "nbconvert_exporter": "python",
   "pygments_lexer": "ipython3",
   "version": "3.11.7"
  }
 },
 "nbformat": 4,
 "nbformat_minor": 5
}
